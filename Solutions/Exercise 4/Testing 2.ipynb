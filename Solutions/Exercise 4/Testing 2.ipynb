{
 "cells": [
  {
   "cell_type": "code",
   "execution_count": 2,
   "metadata": {
    "collapsed": false
   },
   "outputs": [],
   "source": [
    "import numpy as np\n",
    "from scipy.special import expit\n",
    "from matplotlib import pyplot as plt\n",
    "from scipy import linalg as la\n",
    "from scipy import sparse as sp\n",
    "from numba import jit\n",
    "from sparse_sgd_3 import sp_rm_sgd, predict\n",
    "from sklearn.cross_validation import train_test_split as tts"
   ]
  },
  {
   "cell_type": "markdown",
   "metadata": {},
   "source": [
    "###Getting the code up and running\n",
    "\n",
    "Before we can run any of the code, we need to preprocess the url dataset. \n",
    "You need to run preprocesser.py in your terminal (in the same file that holds all the svm files) to generate the necessary binary files that will take seconds, rather than minutes, to load in. \n",
    "This file also puts the dataset in the expected format for the sp_rm_sgd method calls."
   ]
  },
  {
   "cell_type": "code",
   "execution_count": 3,
   "metadata": {
    "collapsed": true
   },
   "outputs": [],
   "source": [
    "# Before loading these arrays, run preprocessor.py to generate the files 'Data.npy,'\n",
    "# 'Index.npy,' and 'Yvals.npy.'\n",
    "D = np.load('Data.npy')\n",
    "I = np.load('Index.npy')\n",
    "Y = np.load('Yvals.npy')"
   ]
  },
  {
   "cell_type": "code",
   "execution_count": 5,
   "metadata": {
    "collapsed": true
   },
   "outputs": [],
   "source": [
    "# Set the N and P values\n",
    "N = len(D)\n",
    "P = 3231961 + 1"
   ]
  },
  {
   "cell_type": "markdown",
   "metadata": {},
   "source": [
    "###Timing the code"
   ]
  },
  {
   "cell_type": "code",
   "execution_count": 69,
   "metadata": {
    "collapsed": false
   },
   "outputs": [
    {
     "name": "stdout",
     "output_type": "stream",
     "text": [
      "Wall time: 5min 31s\n"
     ]
    }
   ],
   "source": [
    "%%time\n",
    "# Run and time the sp_rm_sgd method for the whole dataset\n",
    "b0 = sp_rm_sgd(D, I, Y, np.ones(N), np.zeros(P), blocksize=1000)"
   ]
  },
  {
   "cell_type": "markdown",
   "metadata": {},
   "source": [
    "You may be saying to yourself: isn't 5 minutes a little long?\n",
    "\n",
    "WRONG!\n",
    "\n",
    "For Python, 5 minutes is a blindingly fast time for this algorithm to process such a large dataset.\n",
    "Unlike R, Python is not equipped with a robust C++ interface (robust here meaning \"has a wrapper for Eigen\").\n",
    "Its two compiled language interfaces are Cython and Numba, neither of which is endowed with the particular tools that would further speed this implementation up: Eigen or lazy evaluation.\n",
    "Since NumPy wraps BLAS and LAPACK to implement most of its highly optimized functions, NumPy is as fast as it can get for a Pythonic implementation of vector and array manipulation.\n",
    "\n",
    "That said, multiplying a dense 3,231,962 vector of beta values by a constant at each step (which is what the l2 penalty entails) is still mind-numbingly slow and would take days, let alone hours, to complete. \n",
    "Furthermore, the scipy sparse matrix class is not--ahem--robust.\n",
    "That is why I have chosen to optimize the Robbin's Monro SGD method using what I like to call \"poor man's lazy evaluation.\"\n",
    "Essentially, we split the dataset into manageable chunks of samples (here, size 1000) and calculate the nontrivial indices that correspond to the entire chunk. \n",
    "Since the chunk is fairly small, so too is the number of indices we have to update at each step.\n",
    "Thus we only update the b0 values at the indices that will be effected by the sample, the \"bindex'.\n",
    "At each step in the batch, we calculate the l2 penalty and gradient using only the bindex values (since the gradient will have trivial values corresponding to the trivial values of the sample).\n",
    "Finally, at the end of the 1000 iterations, we update the b0 values that were never affected by any of the batch samples by subtracting the sum of all of the penalty terms that would have been taken from these b0 values over the course of the batch.\n",
    "\n",
    "Please see sparse_sgd_3.py for the implementation."
   ]
  },
  {
   "cell_type": "markdown",
   "metadata": {},
   "source": [
    "##Testing Accuracy\n",
    "In the following tests for accuracy, we split the data into training and testing sets by using sklearn.cross_validation.train_test_split(). \n",
    "This function generates indices for our training and testing sets respectively.\n",
    "We make predictions and test the accuracy of those predictions using the predict function found in sparse_sgd_3.py"
   ]
  },
  {
   "cell_type": "markdown",
   "metadata": {},
   "source": [
    "###Accuracy based on test size\n",
    "To test the accuracy of our optimized, sparse implementation of rm sgd, we run each the algorithm and make predictions for a variety of test sizes: $\\{.1, .2, .3, .4, .5, .6, .7, .8, .9, .99\\}$. \n",
    "Note that because it takes the function about 5 minutes to run on the full dataset, the following cells take some time to run."
   ]
  },
  {
   "cell_type": "code",
   "execution_count": 10,
   "metadata": {
    "collapsed": false
   },
   "outputs": [],
   "source": [
    "# Calculate the accuracy for various test sizes.\n",
    "# Since this takes about 20 minutes to run, it has been split in two.\n",
    "acc = []\n",
    "for i in np.arange(.1, .6, .1):\n",
    "    trainindex, testindex = tts(np.arange(N), test_size=i)\n",
    "    b0 = sp_rm_sgd(D[trainindex], I[trainindex], Y[trainindex], np.ones(N), np.zeros(P), blocksize=1000)\n",
    "    acc.append(predict(D[testindex], I[testindex], Y[testindex], b0))"
   ]
  },
  {
   "cell_type": "code",
   "execution_count": 18,
   "metadata": {
    "collapsed": true
   },
   "outputs": [],
   "source": [
    "for i in np.arange(.6, 1, .1):\n",
    "    trainindex, testindex = tts(np.arange(N), test_size=i)\n",
    "    b0 = sp_rm_sgd(D[trainindex], I[trainindex], Y[trainindex], np.ones(N), np.zeros(P), blocksize=1000)\n",
    "    acc.append(predict(D[testindex], I[testindex], Y[testindex], b0))"
   ]
  },
  {
   "cell_type": "code",
   "execution_count": 24,
   "metadata": {
    "collapsed": true
   },
   "outputs": [],
   "source": [
    "# Take an additional training and testing set with a test size close to 1.\n",
    "# Note that this takes far less time, but still has a reasonably high standard of \n",
    "# accuracy, about 96. %\n",
    "trainindex, testindex = tts(np.arange(N), test_size=.99)\n",
    "b0 = sp_rm_sgd(D[trainindex], I[trainindex], Y[trainindex], np.ones(N), np.zeros(P), blocksize=1000)\n",
    "acc.append(predict(D[testindex], I[testindex], Y[testindex], b0))"
   ]
  },
  {
   "cell_type": "code",
   "execution_count": 57,
   "metadata": {
    "collapsed": false
   },
   "outputs": [
    {
     "data": {
      "image/png": "[encoded data removed]",
      "text/plain": [
       "<matplotlib.figure.Figure at 0x1234cfbe0>"
      ]
     },
     "metadata": {},
     "output_type": "display_data"
    }
   ],
   "source": [
    "# Plot the accuracy of the predictions for various test sizes\n",
    "%matplotlib inline\n",
    "plt.plot([.1,.2,.3,.4,.5,.6,.7,.8,.9,.99], acc)\n",
    "plt.xlabel('Test size (fraction of dataset)')\n",
    "plt.ylabel('Percent Accuracy')\n",
    "plt.title('Percent Accuracy depending on test size')\n",
    "plt.show()"
   ]
  },
  {
   "cell_type": "markdown",
   "metadata": {},
   "source": [
    "As we can see from the plot above, though the accuracy of the algorithm did marginally decrease with the increase in the test size percentage, the accuracy remains about 96.0%. \n",
    "Test sizes of .1 and .3 had the greatest success, but this success was not considerably higher than that achieved with a smaller training set (and a smaller time cost). \n",
    "Because the time cost to test on the smaller training set is lower, with a reasonably high accuracy, we will use .99 as our test size for the remaining comparisons."
   ]
  },
  {
   "cell_type": "markdown",
   "metadata": {},
   "source": [
    "###Accuracy based on penalty coefficient"
   ]
  },
  {
   "cell_type": "markdown",
   "metadata": {},
   "source": [
    "In the following code, we test various values of the penalty coefficient, $\\lambda$, for a .99 test size on the url dataset.\n",
    "Note that the default value for $\\lambda$ is relatively small--$1 \\times 10^{-5}$."
   ]
  },
  {
   "cell_type": "code",
   "execution_count": 28,
   "metadata": {
    "collapsed": false
   },
   "outputs": [],
   "source": [
    "# Demonstrate the effect of the lambda values\n",
    "# Note that we train on the same test and training sets, changing only the lambda\n",
    "# values. Since the .99 test size still has high accuracy with far less time cost,\n",
    "# we train using this test size (a .01 training size)\n",
    "lambdas = [1, .5, .1, .01, .001, .0001, .00001]\n",
    "trainindex, testindex = tts(np.arange(N), test_size=.99)\n",
    "\n",
    "lam_acc = []\n",
    "for i in lambdas:\n",
    "    b0 = sp_rm_sgd(D[trainindex], I[trainindex], Y[trainindex], np.ones(N), np.zeros(P), lam=i, blocksize=1000)\n",
    "    lam_acc.append(predict(D[testindex], I[testindex], Y[testindex], b0))"
   ]
  },
  {
   "cell_type": "code",
   "execution_count": 47,
   "metadata": {
    "collapsed": false
   },
   "outputs": [
    {
     "data": {
      "image/png": "[encoded data removed]",
      "text/plain": [
       "<matplotlib.figure.Figure at 0x118187320>"
      ]
     },
     "metadata": {},
     "output_type": "display_data"
    }
   ],
   "source": [
    "plt.semilogx(lambdas, lam_acc)\n",
    "plt.xlabel('Lambda Value, log scale')\n",
    "plt.ylabel('Percent Accuracy')\n",
    "plt.title('Accuracy depending on lambda value, testsize=.99')\n",
    "plt.show()"
   ]
  },
  {
   "cell_type": "markdown",
   "metadata": {},
   "source": [
    "As we can see from the above plot, the algorithm maintains about 96% accuracy for most relatively low $\\lambda$ values: $\\{.00001, .0001, .001, .01\\}$. \n",
    "However, for larger values of $.1, .5$ and $1$, the accuracy of the algorithm drops considerably:\n"
   ]
  },
  {
   "cell_type": "code",
   "execution_count": 68,
   "metadata": {
    "collapsed": false
   },
   "outputs": [
    {
     "name": "stdout",
     "output_type": "stream",
     "text": [
      "Accuracy for lambda = 1, .5, .1: [70.90704751642906, 76.741876316569346, 89.939376157432292]\n",
      "Percentage of zero labels: 66.9406501317\n"
     ]
    }
   ],
   "source": [
    "# Demonstrate the accuracy associated with the highest lambda values\n",
    "print \"Accuracy for lambda = 1, .5, .1:\", lam_acc[:3]\n",
    "# Calculate the percentage of zero labels\n",
    "print \"Percentage of zero labels:\", (1-(Y > 0).sum() / float(N)) * 100"
   ]
  },
  {
   "cell_type": "markdown",
   "metadata": {},
   "source": [
    "From the more specific report above, we see that when $\\lambda = 1$, using the algorithm results in accuracy only about 3% higher than simply predicting 0 for every sample.\n",
    "Similarly, when $\\lambda = .5$, using the algorithm results in accuracy only about 10% higher than naively guessing 0 for each sample.\n",
    "Clearly, the choice of penalty coefficient has great effect on the algorithm's predictive capacity--apparently greater than test size."
   ]
  },
  {
   "cell_type": "markdown",
   "metadata": {},
   "source": [
    "### Accuracy based on the initial guess\n",
    "\n",
    "The careful reader will note that in the previous runs of the sparse Robbins Monro SGD code, our initial guess for b0 has always simply been an array of zeros. \n",
    "Here we investigate the effect of other initial guess vectors: a vector of random values and a vector of ones (again with the standard of 0's)"
   ]
  },
  {
   "cell_type": "code",
   "execution_count": 51,
   "metadata": {
    "collapsed": false
   },
   "outputs": [
    {
     "data": {
      "text/plain": [
       "87.523401578892575"
      ]
     },
     "execution_count": 51,
     "metadata": {},
     "output_type": "execute_result"
    }
   ],
   "source": [
    "# Compare accuracy of predictions for a random initial vector vs. an initial vector of zeros\n",
    "trainindex, testindex = tts(np.arange(N), test_size=.99)\n",
    "b0 = sp_rm_sgd(D[trainindex], I[trainindex], Y[trainindex], np.ones(N), np.random.rand(P))\n",
    "predict(D[testindex], I[testindex], Y[testindex], b0)"
   ]
  },
  {
   "cell_type": "code",
   "execution_count": 54,
   "metadata": {
    "collapsed": false
   },
   "outputs": [
    {
     "data": {
      "text/plain": [
       "81.658389431781629"
      ]
     },
     "execution_count": 54,
     "metadata": {},
     "output_type": "execute_result"
    }
   ],
   "source": [
    "# Test using an initial vector of zeros.\n",
    "b0 = sp_rm_sgd(D[trainindex], I[trainindex], Y[trainindex], np.ones(N), np.ones(P))\n",
    "predict(D[testindex], I[testindex], Y[testindex], b0)"
   ]
  },
  {
   "cell_type": "code",
   "execution_count": 52,
   "metadata": {
    "collapsed": false
   },
   "outputs": [
    {
     "data": {
      "text/plain": [
       "96.095345652017201"
      ]
     },
     "execution_count": 52,
     "metadata": {},
     "output_type": "execute_result"
    }
   ],
   "source": [
    "# Test using an initial vector of zeros.\n",
    "b0 = sp_rm_sgd(D[trainindex], I[trainindex], Y[trainindex], np.ones(N), np.zeros(P))\n",
    "predict(D[testindex], I[testindex], Y[testindex], b0)"
   ]
  },
  {
   "cell_type": "markdown",
   "metadata": {},
   "source": [
    "Clearly, the initial choice of beta does affect the accuracy of the algorithm.\n",
    "It is likely that the initial choice of zeros alone is most effective because it does not include the influence of random noise or a random initial guess but is rather solely influenced by the data at hand.\n",
    "The influence of the intial guess vector on the algorithm (and its comparative influence on other such algorithms) would be an interesting area of further study."
   ]
  },
  {
   "cell_type": "code",
   "execution_count": null,
   "metadata": {
    "collapsed": true
   },
   "outputs": [],
   "source": []
  }
 ],
 "metadata": {
  "kernelspec": {
   "display_name": "Python 2",
   "language": "python",
   "name": "python2"
  },
  "language_info": {
   "codemirror_mode": {
    "name": "ipython",
    "version": 2
   },
   "file_extension": ".py",
   "mimetype": "text/x-python",
   "name": "python",
   "nbconvert_exporter": "python",
   "pygments_lexer": "ipython2",
   "version": "2.7.11"
  }
 },
 "nbformat": 4,
 "nbformat_minor": 0
}
